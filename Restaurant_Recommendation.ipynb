{
  "nbformat": 4,
  "nbformat_minor": 0,
  "metadata": {
    "colab": {
      "provenance": []
    },
    "kernelspec": {
      "name": "python3",
      "display_name": "Python 3"
    },
    "language_info": {
      "name": "python"
    }
  },
  "cells": [
    {
      "cell_type": "code",
      "source": [
        "import pandas as pd\n",
        "\n",
        "df = pd.read_csv('Dataset .csv')\n",
        "df.columns = df.columns.str.strip()\n",
        "print(\"📋 Column Names:\\n\", list(df.columns))\n",
        "print(\"\\n🔍 Sample Data:\\n\", df.head())\n"
      ],
      "metadata": {
        "colab": {
          "base_uri": "https://localhost:8080/"
        },
        "id": "MiIbi-jqRRxz",
        "outputId": "8535b042-cd92-4e46-f449-1e4f6fd3b673"
      },
      "execution_count": null,
      "outputs": [
        {
          "output_type": "stream",
          "name": "stdout",
          "text": [
            "📋 Column Names:\n",
            " ['Restaurant ID', 'Restaurant Name', 'Country Code', 'City', 'Address', 'Locality', 'Locality Verbose', 'Longitude', 'Latitude', 'Cuisines', 'Average Cost for two', 'Currency', 'Has Table booking', 'Has Online delivery', 'Is delivering now', 'Switch to order menu', 'Price range', 'Aggregate rating', 'Rating color', 'Rating text', 'Votes']\n",
            "\n",
            "🔍 Sample Data:\n",
            "    Restaurant ID         Restaurant Name  Country Code              City  \\\n",
            "0        6317637        Le Petit Souffle           162       Makati City   \n",
            "1        6304287        Izakaya Kikufuji           162       Makati City   \n",
            "2        6300002  Heat - Edsa Shangri-La           162  Mandaluyong City   \n",
            "3        6318506                    Ooma           162  Mandaluyong City   \n",
            "4        6314302             Sambo Kojin           162  Mandaluyong City   \n",
            "\n",
            "                                             Address  \\\n",
            "0  Third Floor, Century City Mall, Kalayaan Avenu...   \n",
            "1  Little Tokyo, 2277 Chino Roces Avenue, Legaspi...   \n",
            "2  Edsa Shangri-La, 1 Garden Way, Ortigas, Mandal...   \n",
            "3  Third Floor, Mega Fashion Hall, SM Megamall, O...   \n",
            "4  Third Floor, Mega Atrium, SM Megamall, Ortigas...   \n",
            "\n",
            "                                     Locality  \\\n",
            "0   Century City Mall, Poblacion, Makati City   \n",
            "1  Little Tokyo, Legaspi Village, Makati City   \n",
            "2  Edsa Shangri-La, Ortigas, Mandaluyong City   \n",
            "3      SM Megamall, Ortigas, Mandaluyong City   \n",
            "4      SM Megamall, Ortigas, Mandaluyong City   \n",
            "\n",
            "                                    Locality Verbose   Longitude   Latitude  \\\n",
            "0  Century City Mall, Poblacion, Makati City, Mak...  121.027535  14.565443   \n",
            "1  Little Tokyo, Legaspi Village, Makati City, Ma...  121.014101  14.553708   \n",
            "2  Edsa Shangri-La, Ortigas, Mandaluyong City, Ma...  121.056831  14.581404   \n",
            "3  SM Megamall, Ortigas, Mandaluyong City, Mandal...  121.056475  14.585318   \n",
            "4  SM Megamall, Ortigas, Mandaluyong City, Mandal...  121.057508  14.584450   \n",
            "\n",
            "                           Cuisines  ...          Currency Has Table booking  \\\n",
            "0        French, Japanese, Desserts  ...  Botswana Pula(P)               Yes   \n",
            "1                          Japanese  ...  Botswana Pula(P)               Yes   \n",
            "2  Seafood, Asian, Filipino, Indian  ...  Botswana Pula(P)               Yes   \n",
            "3                   Japanese, Sushi  ...  Botswana Pula(P)                No   \n",
            "4                  Japanese, Korean  ...  Botswana Pula(P)               Yes   \n",
            "\n",
            "  Has Online delivery Is delivering now Switch to order menu Price range  \\\n",
            "0                  No                No                   No           3   \n",
            "1                  No                No                   No           3   \n",
            "2                  No                No                   No           4   \n",
            "3                  No                No                   No           4   \n",
            "4                  No                No                   No           4   \n",
            "\n",
            "   Aggregate rating  Rating color Rating text Votes  \n",
            "0               4.8    Dark Green   Excellent   314  \n",
            "1               4.5    Dark Green   Excellent   591  \n",
            "2               4.4         Green   Very Good   270  \n",
            "3               4.9    Dark Green   Excellent   365  \n",
            "4               4.8    Dark Green   Excellent   229  \n",
            "\n",
            "[5 rows x 21 columns]\n"
          ]
        }
      ]
    },
    {
      "cell_type": "code",
      "source": [
        "cuisine_col = next((col for col in df.columns if 'cuisin' in col.lower()), None)\n",
        "price_col = next((col for col in df.columns if 'price' in col.lower()), None)\n",
        "name_col = next((col for col in df.columns if 'name' in col.lower()), None)\n",
        "rating_col = next((col for col in df.columns if 'rating' in col.lower()), None)\n",
        "\n",
        "\n",
        "print(f\"\\nDetected Columns:\\nName: {name_col}\\nCuisine: {cuisine_col}\\nPrice: {price_col}\\nRating: {rating_col}\")\n"
      ],
      "metadata": {
        "colab": {
          "base_uri": "https://localhost:8080/"
        },
        "id": "RMFqBbOARUTW",
        "outputId": "cbe54bd9-59cb-4ce2-89d7-b9086460db4b"
      },
      "execution_count": null,
      "outputs": [
        {
          "output_type": "stream",
          "name": "stdout",
          "text": [
            "\n",
            "Detected Columns:\n",
            "Name: Restaurant Name\n",
            "Cuisine: Cuisines\n",
            "Price: Price range\n",
            "Rating: Aggregate rating\n"
          ]
        }
      ]
    },
    {
      "cell_type": "code",
      "source": [
        "df[cuisine_col] = df[cuisine_col].fillna('')\n",
        "df[price_col] = df[price_col].fillna('')\n",
        "if rating_col:\n",
        "    df[rating_col] = df[rating_col].fillna(df[rating_col].mean())\n",
        "\n",
        "\n",
        "df['combined_features'] = df[cuisine_col].astype(str) + ' ' + df[price_col].astype(str)\n"
      ],
      "metadata": {
        "id": "ymBtuj2DRWHs"
      },
      "execution_count": null,
      "outputs": []
    },
    {
      "cell_type": "code",
      "source": [
        "from sklearn.feature_extraction.text import TfidfVectorizer\n",
        "from sklearn.metrics.pairwise import cosine_similarity\n",
        "\n",
        "tfidf = TfidfVectorizer(stop_words='english')\n",
        "feature_matrix = tfidf.fit_transform(df['combined_features'])\n",
        "\n",
        "cosine_sim = cosine_similarity(feature_matrix, feature_matrix)\n"
      ],
      "metadata": {
        "id": "ga3Qh0ijRYSk"
      },
      "execution_count": null,
      "outputs": []
    },
    {
      "cell_type": "code",
      "source": [
        "def recommend_restaurants(cuisine_preference, price_preference, top_n=5):\n",
        "    input_profile = f\"{cuisine_preference} {price_preference}\"\n",
        "    input_vec = tfidf.transform([input_profile])\n",
        "    sim_scores = cosine_similarity(input_vec, feature_matrix).flatten()\n",
        "    top_indices = sim_scores.argsort()[-top_n:][::-1]\n",
        "\n",
        "    display_cols = [name_col, cuisine_col, price_col]\n",
        "    if rating_col:\n",
        "        display_cols.append(rating_col)\n",
        "\n",
        "    return df.iloc[top_indices][display_cols]\n"
      ],
      "metadata": {
        "id": "-XvVLgZBRaFe"
      },
      "execution_count": null,
      "outputs": []
    },
    {
      "cell_type": "code",
      "source": [
        "print(\"\\n🎯 Recommendations for: 'Italian' cuisine & 'Moderate' price\")\n",
        "results = recommend_restaurants('Italian', 'Moderate')\n",
        "print(results)\n"
      ],
      "metadata": {
        "colab": {
          "base_uri": "https://localhost:8080/"
        },
        "id": "N8JfPc-kRccT",
        "outputId": "b6115be4-f6b7-4cd7-c8c4-1000df066f30"
      },
      "execution_count": null,
      "outputs": [
        {
          "output_type": "stream",
          "name": "stdout",
          "text": [
            "\n",
            "🎯 Recommendations for: 'Italian' cuisine & 'Moderate' price\n",
            "     Restaurant Name Cuisines  Price range  Aggregate rating\n",
            "1106   Da Pizza Zone  Italian            2               0.0\n",
            "31      Villa Tevere  Italian            4               4.1\n",
            "3603         Foodies  Italian            1               0.0\n",
            "9344       San Carlo  Italian            3               4.2\n",
            "3219  28 Capri Italy  Italian            3               3.9\n"
          ]
        }
      ]
    }
  ]
}